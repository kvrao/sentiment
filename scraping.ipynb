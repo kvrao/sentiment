{
 "cells": [
  {
   "cell_type": "code",
   "execution_count": 12,
   "metadata": {},
   "outputs": [],
   "source": [
    "import requests, sys, webbrowser, json, csv\n",
    "import sentiment_analysis"
   ]
  },
  {
   "cell_type": "code",
   "execution_count": 20,
   "metadata": {},
   "outputs": [],
   "source": [
    "res = requests.get('https://newsapi.org/v2/everything?sources=bbc-news,google-news,techcrunch&from=2018-05-22&to=2018-05-22&sortBy=popularity&apiKey=f8dd98c7d7934e7eabeaad96f36318ef&q=apple')\n",
    "res.raise_for_status()"
   ]
  },
  {
   "cell_type": "code",
   "execution_count": 14,
   "metadata": {},
   "outputs": [],
   "source": [
    "articles = res.json()['articles']"
   ]
  },
  {
   "cell_type": "code",
   "execution_count": 15,
   "metadata": {},
   "outputs": [
    {
     "name": "stdout",
     "output_type": "stream",
     "text": [
      "Starbucks’s mobile payment service is slightly outpacing Apple’s\n",
      "People really love getting their coffee more quickly. Starbucks, which has operated its own mobile payments service since 2011, is the market leader in terms of mobile payments users, beating out Apple Pay, Google Pay, and Samsung Pay, according to a new repo…\n"
     ]
    }
   ],
   "source": [
    "print(articles[0]['title'])\n",
    "print(articles[0]['description'])"
   ]
  },
  {
   "cell_type": "code",
   "execution_count": 52,
   "metadata": {},
   "outputs": [],
   "source": [
    "with open (\"test.csv\",\"w\")as fp:\n",
    "   for article in articles:\n",
    "       fp.write(article['title']+';'+article['description']+\"\\n\")"
   ]
  },
  {
   "cell_type": "code",
   "execution_count": 19,
   "metadata": {},
   "outputs": [
    {
     "name": "stdout",
     "output_type": "stream",
     "text": [
      "url: http://techcrunch.com/2018/05/22/starbuckss-mobile-payment-service-is-slightly-outpacing-apples/  score: 1.0\n",
      "url: http://techcrunch.com/2018/05/22/amuse/  score: 2.0\n",
      "url: http://techcrunch.com/2018/05/22/twitter-is-killing-several-of-its-tv-apps-too/  score: 0.0\n",
      "url: http://techcrunch.com/2018/05/22/reese-witherspoons-hello-sunshine-teams-with-amazons-audible-on-audiobooks-and-originals/  score: 4.0\n",
      "url: http://feedproxy.google.com/~r/wmexperts/~3/p7_Z_LGU7Qw/twitter-killing-its-apps-roku-android-tv-and-xbox  score: 3.0\n",
      "url: https://jp.techcrunch.com/2018/05/22/2018-05-21-teen-monitoring-app-teensafe-exposes-thousands-of-passwords/  score: 0.0\n",
      "url: https://jp.techcrunch.com/2018/05/22/2018-05-21-now-you-can-buy-a-laptop-with-alexa-preinstalled/  score: 0.0\n",
      "url: http://techcrunch.com/2018/05/22/real-vision/  score: -1.0\n",
      "url: http://feedproxy.google.com/~r/tonymacx86rss/~3/Y5lG3DfULdM/index.php  score: 0.0\n",
      "url: http://feedproxy.google.com/~r/cnet/cnetnewshd/~3/qIBKx97zwnI/359watch_1575178_2696.mp4  score: 0.0\n",
      "url: http://feedproxy.google.com/~r/allcnetaudiopodcasts/~3/95oeYtPT2Fc/AreyougettingboredwithyourAppleWatchface_(The3_59,Ep.406).mp3  score: -1.0\n",
      "url: http://feedproxy.google.com/~r/allcnetvideopodcasts/~3/iX6y5u2x9Z0/359watch_1575178_440.mp4  score: 0.0\n",
      "url: http://techcrunch.com/2018/05/22/razers-new-external-graphics-enclosure-is-compatible-with-macs/  score: 0.0\n",
      "url: http://techcrunch.com/2018/05/22/announcing-the-last-judges-for-the-tc-startup-battlefield-europe-at-vivatech/  score: -1.0\n",
      "url: http://techcrunch.com/2018/05/21/subscription-video-services-recommendations-arent-working-study-says/  score: 3.0\n",
      "url: http://techcrunch.com/2018/05/22/realeyes-which-uses-ai-and-a-front-facing-camera-to-read-viewers-emotions-raises-16-2m/  score: 1.0\n"
     ]
    }
   ],
   "source": [
    "for article in articles:\n",
    "    text = article['description']\n",
    "    splitter = sentiment_analysis.WordSplit()\n",
    "    postagger = sentiment_analysis.POSTagger()\n",
    "    dicttagger = sentiment_analysis.DictionaryTagger([ 'dicts/positive_words.yml', 'dicts/negative_words.yml','dicts/inc.yml', 'dicts/dec.yml', 'dicts/inv.yml'])\n",
    "    splitted_sentences = splitter.split(text)\n",
    "    pos_tagged_sentences = postagger.pos_tag(splitted_sentences)\n",
    "    dict_tagged_sentences = dicttagger.tag(pos_tagged_sentences)\n",
    "    score = sentiment_analysis.sentiment_score(dict_tagged_sentences)\n",
    "    print('url: ' + article['url'] +'  '+ 'score: ' +str(score))"
   ]
  },
  {
   "cell_type": "code",
   "execution_count": null,
   "metadata": {},
   "outputs": [],
   "source": []
  }
 ],
 "metadata": {
  "kernelspec": {
   "display_name": "Python 3",
   "language": "python",
   "name": "python3"
  },
  "language_info": {
   "codemirror_mode": {
    "name": "ipython",
    "version": 3
   },
   "file_extension": ".py",
   "mimetype": "text/x-python",
   "name": "python",
   "nbconvert_exporter": "python",
   "pygments_lexer": "ipython3",
   "version": "3.6.5"
  }
 },
 "nbformat": 4,
 "nbformat_minor": 2
}
